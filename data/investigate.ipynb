{
 "cells": [
  {
   "cell_type": "code",
   "execution_count": 2,
   "metadata": {},
   "outputs": [],
   "source": [
    "import os\n",
    "import json\n",
    "import pandas as pd"
   ]
  },
  {
   "cell_type": "code",
   "execution_count": 3,
   "metadata": {},
   "outputs": [],
   "source": [
    "# load json\n",
    "with open('blip_laion_cc_sbu_558k.json') as f:\n",
    "    blip558k = json.load(f)\n",
    "\n",
    "with open('blip_laion_cc_sbu_558k_meta.json') as f:\n",
    "    blip558kmeta = json.load(f)\n"
   ]
  },
  {
   "cell_type": "code",
   "execution_count": 4,
   "metadata": {},
   "outputs": [
    {
     "data": {
      "text/plain": [
       "{'id': '004539375',\n",
       " 'image': '00453/004539375.jpg',\n",
       " 'conversations': [{'from': 'human',\n",
       "   'value': 'Render a clear and concise summary of the photo.\\n<image>'},\n",
       "  {'from': 'gpt',\n",
       "   'value': 'select luxury furniture 3 - inch gel memory foam mattress topper'}]}"
      ]
     },
     "execution_count": 4,
     "metadata": {},
     "output_type": "execute_result"
    }
   ],
   "source": [
    "blip558k[0]"
   ]
  },
  {
   "cell_type": "code",
   "execution_count": 11,
   "metadata": {},
   "outputs": [
    {
     "data": {
      "text/plain": [
       "{'id': '004539375',\n",
       " 'image': '00453/004539375.jpg',\n",
       " 'blip_caption': 'select luxury furniture 3 - inch gel memory foam mattress topper',\n",
       " 'url': 'http://ec1.ostkcdn.com/images/products/8111140/P15459545.jpg'}"
      ]
     },
     "execution_count": 11,
     "metadata": {},
     "output_type": "execute_result"
    }
   ],
   "source": [
    "blip558kmeta[0]"
   ]
  },
  {
   "cell_type": "code",
   "execution_count": 7,
   "metadata": {},
   "outputs": [],
   "source": [
    "import torch"
   ]
  },
  {
   "cell_type": "code",
   "execution_count": 25,
   "metadata": {},
   "outputs": [
    {
     "data": {
      "text/plain": [
       "torch.Size([5120, 768])"
      ]
     },
     "execution_count": 25,
     "metadata": {},
     "output_type": "execute_result"
    }
   ],
   "source": [
    "text_embedding = torch.load('/home/mila/l/le.zhang/scratch/light_align/data/text_embedding/all-mpnet-base-v2/0.pt')\n",
    "text_embedding.shape"
   ]
  },
  {
   "cell_type": "code",
   "execution_count": 15,
   "metadata": {},
   "outputs": [
    {
     "name": "stdout",
     "output_type": "stream",
     "text": [
      "/home/mila/l/le.zhang/scratch/light_align/data/image_embedding/dinov2-base/0.pt\n",
      "/home/mila/l/le.zhang/scratch/light_align/data/image_embedding/dinov2-base/1.pt\n",
      "/home/mila/l/le.zhang/scratch/light_align/data/image_embedding/dinov2-base/2.pt\n",
      "/home/mila/l/le.zhang/scratch/light_align/data/image_embedding/dinov2-base/3.pt\n",
      "/home/mila/l/le.zhang/scratch/light_align/data/image_embedding/dinov2-base/4.pt\n",
      "/home/mila/l/le.zhang/scratch/light_align/data/image_embedding/dinov2-base/5.pt\n",
      "/home/mila/l/le.zhang/scratch/light_align/data/image_embedding/dinov2-base/6.pt\n",
      "/home/mila/l/le.zhang/scratch/light_align/data/image_embedding/dinov2-base/7.pt\n",
      "/home/mila/l/le.zhang/scratch/light_align/data/image_embedding/dinov2-base/8.pt\n",
      "/home/mila/l/le.zhang/scratch/light_align/data/image_embedding/dinov2-base/9.pt\n",
      "/home/mila/l/le.zhang/scratch/light_align/data/image_embedding/dinov2-base/10.pt\n",
      "/home/mila/l/le.zhang/scratch/light_align/data/image_embedding/dinov2-base/11.pt\n",
      "/home/mila/l/le.zhang/scratch/light_align/data/image_embedding/dinov2-base/12.pt\n",
      "/home/mila/l/le.zhang/scratch/light_align/data/image_embedding/dinov2-base/13.pt\n",
      "/home/mila/l/le.zhang/scratch/light_align/data/image_embedding/dinov2-base/14.pt\n",
      "/home/mila/l/le.zhang/scratch/light_align/data/image_embedding/dinov2-base/15.pt\n",
      "/home/mila/l/le.zhang/scratch/light_align/data/image_embedding/dinov2-base/16.pt\n",
      "/home/mila/l/le.zhang/scratch/light_align/data/image_embedding/dinov2-base/17.pt\n",
      "/home/mila/l/le.zhang/scratch/light_align/data/image_embedding/dinov2-base/18.pt\n",
      "/home/mila/l/le.zhang/scratch/light_align/data/image_embedding/dinov2-base/19.pt\n",
      "/home/mila/l/le.zhang/scratch/light_align/data/image_embedding/dinov2-base/20.pt\n",
      "/home/mila/l/le.zhang/scratch/light_align/data/image_embedding/dinov2-base/21.pt\n",
      "/home/mila/l/le.zhang/scratch/light_align/data/image_embedding/dinov2-base/22.pt\n",
      "/home/mila/l/le.zhang/scratch/light_align/data/image_embedding/dinov2-base/23.pt\n",
      "/home/mila/l/le.zhang/scratch/light_align/data/image_embedding/dinov2-base/24.pt\n",
      "/home/mila/l/le.zhang/scratch/light_align/data/image_embedding/dinov2-base/25.pt\n",
      "/home/mila/l/le.zhang/scratch/light_align/data/image_embedding/dinov2-base/26.pt\n",
      "/home/mila/l/le.zhang/scratch/light_align/data/image_embedding/dinov2-base/27.pt\n",
      "/home/mila/l/le.zhang/scratch/light_align/data/image_embedding/dinov2-base/28.pt\n",
      "/home/mila/l/le.zhang/scratch/light_align/data/image_embedding/dinov2-base/29.pt\n",
      "/home/mila/l/le.zhang/scratch/light_align/data/image_embedding/dinov2-base/30.pt\n",
      "/home/mila/l/le.zhang/scratch/light_align/data/image_embedding/dinov2-base/31.pt\n",
      "/home/mila/l/le.zhang/scratch/light_align/data/image_embedding/dinov2-base/32.pt\n",
      "/home/mila/l/le.zhang/scratch/light_align/data/image_embedding/dinov2-base/33.pt\n",
      "/home/mila/l/le.zhang/scratch/light_align/data/image_embedding/dinov2-base/34.pt\n",
      "/home/mila/l/le.zhang/scratch/light_align/data/image_embedding/dinov2-base/35.pt\n",
      "/home/mila/l/le.zhang/scratch/light_align/data/image_embedding/dinov2-base/36.pt\n",
      "/home/mila/l/le.zhang/scratch/light_align/data/image_embedding/dinov2-base/37.pt\n",
      "/home/mila/l/le.zhang/scratch/light_align/data/image_embedding/dinov2-base/38.pt\n",
      "/home/mila/l/le.zhang/scratch/light_align/data/image_embedding/dinov2-base/39.pt\n",
      "/home/mila/l/le.zhang/scratch/light_align/data/image_embedding/dinov2-base/40.pt\n",
      "/home/mila/l/le.zhang/scratch/light_align/data/image_embedding/dinov2-base/41.pt\n",
      "/home/mila/l/le.zhang/scratch/light_align/data/image_embedding/dinov2-base/42.pt\n",
      "/home/mila/l/le.zhang/scratch/light_align/data/image_embedding/dinov2-base/43.pt\n",
      "/home/mila/l/le.zhang/scratch/light_align/data/image_embedding/dinov2-base/44.pt\n",
      "/home/mila/l/le.zhang/scratch/light_align/data/image_embedding/dinov2-base/45.pt\n",
      "/home/mila/l/le.zhang/scratch/light_align/data/image_embedding/dinov2-base/46.pt\n",
      "/home/mila/l/le.zhang/scratch/light_align/data/image_embedding/dinov2-base/47.pt\n",
      "/home/mila/l/le.zhang/scratch/light_align/data/image_embedding/dinov2-base/48.pt\n",
      "/home/mila/l/le.zhang/scratch/light_align/data/image_embedding/dinov2-base/49.pt\n",
      "/home/mila/l/le.zhang/scratch/light_align/data/image_embedding/dinov2-base/50.pt\n",
      "/home/mila/l/le.zhang/scratch/light_align/data/image_embedding/dinov2-base/51.pt\n",
      "/home/mila/l/le.zhang/scratch/light_align/data/image_embedding/dinov2-base/52.pt\n",
      "/home/mila/l/le.zhang/scratch/light_align/data/image_embedding/dinov2-base/53.pt\n",
      "/home/mila/l/le.zhang/scratch/light_align/data/image_embedding/dinov2-base/54.pt\n",
      "/home/mila/l/le.zhang/scratch/light_align/data/image_embedding/dinov2-base/55.pt\n",
      "/home/mila/l/le.zhang/scratch/light_align/data/image_embedding/dinov2-base/56.pt\n",
      "/home/mila/l/le.zhang/scratch/light_align/data/image_embedding/dinov2-base/57.pt\n",
      "/home/mila/l/le.zhang/scratch/light_align/data/image_embedding/dinov2-base/58.pt\n",
      "/home/mila/l/le.zhang/scratch/light_align/data/image_embedding/dinov2-base/59.pt\n",
      "/home/mila/l/le.zhang/scratch/light_align/data/image_embedding/dinov2-base/60.pt\n",
      "/home/mila/l/le.zhang/scratch/light_align/data/image_embedding/dinov2-base/61.pt\n",
      "/home/mila/l/le.zhang/scratch/light_align/data/image_embedding/dinov2-base/62.pt\n",
      "/home/mila/l/le.zhang/scratch/light_align/data/image_embedding/dinov2-base/63.pt\n",
      "/home/mila/l/le.zhang/scratch/light_align/data/image_embedding/dinov2-base/64.pt\n",
      "/home/mila/l/le.zhang/scratch/light_align/data/image_embedding/dinov2-base/65.pt\n",
      "/home/mila/l/le.zhang/scratch/light_align/data/image_embedding/dinov2-base/66.pt\n",
      "/home/mila/l/le.zhang/scratch/light_align/data/image_embedding/dinov2-base/67.pt\n",
      "/home/mila/l/le.zhang/scratch/light_align/data/image_embedding/dinov2-base/68.pt\n",
      "/home/mila/l/le.zhang/scratch/light_align/data/image_embedding/dinov2-base/69.pt\n",
      "/home/mila/l/le.zhang/scratch/light_align/data/image_embedding/dinov2-base/70.pt\n",
      "/home/mila/l/le.zhang/scratch/light_align/data/image_embedding/dinov2-base/71.pt\n",
      "/home/mila/l/le.zhang/scratch/light_align/data/image_embedding/dinov2-base/72.pt\n",
      "/home/mila/l/le.zhang/scratch/light_align/data/image_embedding/dinov2-base/73.pt\n",
      "/home/mila/l/le.zhang/scratch/light_align/data/image_embedding/dinov2-base/74.pt\n",
      "/home/mila/l/le.zhang/scratch/light_align/data/image_embedding/dinov2-base/75.pt\n",
      "/home/mila/l/le.zhang/scratch/light_align/data/image_embedding/dinov2-base/76.pt\n",
      "/home/mila/l/le.zhang/scratch/light_align/data/image_embedding/dinov2-base/77.pt\n",
      "/home/mila/l/le.zhang/scratch/light_align/data/image_embedding/dinov2-base/78.pt\n",
      "/home/mila/l/le.zhang/scratch/light_align/data/image_embedding/dinov2-base/79.pt\n",
      "/home/mila/l/le.zhang/scratch/light_align/data/image_embedding/dinov2-base/80.pt\n",
      "/home/mila/l/le.zhang/scratch/light_align/data/image_embedding/dinov2-base/81.pt\n",
      "/home/mila/l/le.zhang/scratch/light_align/data/image_embedding/dinov2-base/82.pt\n",
      "/home/mila/l/le.zhang/scratch/light_align/data/image_embedding/dinov2-base/83.pt\n",
      "/home/mila/l/le.zhang/scratch/light_align/data/image_embedding/dinov2-base/84.pt\n",
      "/home/mila/l/le.zhang/scratch/light_align/data/image_embedding/dinov2-base/85.pt\n",
      "/home/mila/l/le.zhang/scratch/light_align/data/image_embedding/dinov2-base/86.pt\n",
      "/home/mila/l/le.zhang/scratch/light_align/data/image_embedding/dinov2-base/87.pt\n",
      "/home/mila/l/le.zhang/scratch/light_align/data/image_embedding/dinov2-base/88.pt\n",
      "/home/mila/l/le.zhang/scratch/light_align/data/image_embedding/dinov2-base/89.pt\n",
      "/home/mila/l/le.zhang/scratch/light_align/data/image_embedding/dinov2-base/90.pt\n",
      "/home/mila/l/le.zhang/scratch/light_align/data/image_embedding/dinov2-base/91.pt\n",
      "/home/mila/l/le.zhang/scratch/light_align/data/image_embedding/dinov2-base/92.pt\n",
      "/home/mila/l/le.zhang/scratch/light_align/data/image_embedding/dinov2-base/93.pt\n",
      "/home/mila/l/le.zhang/scratch/light_align/data/image_embedding/dinov2-base/94.pt\n",
      "/home/mila/l/le.zhang/scratch/light_align/data/image_embedding/dinov2-base/95.pt\n",
      "/home/mila/l/le.zhang/scratch/light_align/data/image_embedding/dinov2-base/96.pt\n",
      "/home/mila/l/le.zhang/scratch/light_align/data/image_embedding/dinov2-base/97.pt\n",
      "/home/mila/l/le.zhang/scratch/light_align/data/image_embedding/dinov2-base/98.pt\n",
      "/home/mila/l/le.zhang/scratch/light_align/data/image_embedding/dinov2-base/99.pt\n",
      "/home/mila/l/le.zhang/scratch/light_align/data/image_embedding/dinov2-base/100.pt\n",
      "/home/mila/l/le.zhang/scratch/light_align/data/image_embedding/dinov2-base/101.pt\n",
      "/home/mila/l/le.zhang/scratch/light_align/data/image_embedding/dinov2-base/102.pt\n",
      "/home/mila/l/le.zhang/scratch/light_align/data/image_embedding/dinov2-base/103.pt\n",
      "/home/mila/l/le.zhang/scratch/light_align/data/image_embedding/dinov2-base/104.pt\n",
      "/home/mila/l/le.zhang/scratch/light_align/data/image_embedding/dinov2-base/105.pt\n",
      "/home/mila/l/le.zhang/scratch/light_align/data/image_embedding/dinov2-base/106.pt\n",
      "/home/mila/l/le.zhang/scratch/light_align/data/image_embedding/dinov2-base/107.pt\n",
      "/home/mila/l/le.zhang/scratch/light_align/data/image_embedding/dinov2-base/108.pt\n",
      "/home/mila/l/le.zhang/scratch/light_align/data/image_embedding/dinov2-base/109.pt\n"
     ]
    }
   ],
   "source": [
    "import torch\n",
    "from tqdm import tqdm\n",
    "def get_linear_input(sequence_output):\n",
    "    cls_token = sequence_output[:, 0]\n",
    "    patch_tokens = sequence_output[:, 1:]\n",
    "    linear_input = torch.cat([cls_token, patch_tokens.mean(dim=1)], dim=1)\n",
    "    return linear_input\n",
    "directory = '/home/mila/l/le.zhang/scratch/light_align/data/image_embedding/dinov2-base'\n",
    "for filename in os.listdir(directory):\n",
    "    if filename.endswith(\".pt\"):\n",
    "        print(os.path.join(directory, filename))\n",
    "        image_embedding = torch.load(os.path.join(directory, filename))\n",
    "        image_embedding = get_linear_input(image_embedding)\n",
    "        torch.save(image_embedding, os.path.join(directory, filename))\n",
    "    else:\n",
    "        continue"
   ]
  },
  {
   "cell_type": "code",
   "execution_count": 11,
   "metadata": {},
   "outputs": [],
   "source": [
    "import torch\n",
    "vision_embedding = torch.load('/home/mila/l/le.zhang/scratch/light_align/data/image_embedding/dinov2-base/109.pt')"
   ]
  },
  {
   "cell_type": "code",
   "execution_count": 13,
   "metadata": {},
   "outputs": [
    {
     "data": {
      "text/plain": [
       "tensor([ 0.3493,  3.6590, -0.1121,  ..., -0.1535,  0.5079, -0.2141])"
      ]
     },
     "execution_count": 13,
     "metadata": {},
     "output_type": "execute_result"
    }
   ],
   "source": [
    "vision_embedding[2]"
   ]
  },
  {
   "cell_type": "code",
   "execution_count": 15,
   "metadata": {},
   "outputs": [
    {
     "data": {
      "text/plain": [
       "tensor([-9.0068e-02,  1.2175e-01,  2.4869e-02,  5.4574e-02, -3.2230e-03,\n",
       "         1.4129e-01, -2.2703e-01,  7.5494e-02,  3.9409e-02, -1.5323e-01,\n",
       "         1.4226e-01,  8.7112e-02, -2.5248e-04,  9.8205e-02,  5.2165e-02,\n",
       "        -6.3027e-03, -1.2507e-01, -2.9342e-02,  1.2014e-01,  1.6565e-02,\n",
       "        -2.1908e-03,  1.5668e-03, -4.1757e-02,  3.1514e-02, -2.3885e-01,\n",
       "        -1.9985e-02,  2.1755e-02,  9.4110e-02,  3.6474e-02,  1.7915e-03,\n",
       "         2.7047e-02,  1.0895e-01,  1.0183e-01,  2.1935e-01,  5.0219e-06,\n",
       "        -6.6736e-02,  4.0054e-02,  8.6338e-02, -6.6042e-02, -3.2465e-03,\n",
       "        -5.0143e-03,  2.7459e-02, -8.8782e-02, -4.6008e-02, -4.1919e-02,\n",
       "        -2.8193e-01, -3.5611e-02,  1.9329e-02,  3.0622e-02,  4.6961e-02,\n",
       "         1.4722e-02, -9.0724e-02, -2.7337e-02,  8.7353e-02, -1.4415e-01,\n",
       "         4.2439e-02,  7.2870e-02, -2.6936e-01, -7.0227e-02, -1.4117e-02,\n",
       "         1.3239e-03,  2.9695e-02,  1.3640e-01,  5.7363e-03, -1.1328e-01,\n",
       "         1.7079e-01,  4.2383e-03,  5.3615e-02, -5.6096e-03,  1.8569e-02,\n",
       "        -4.9717e-02, -2.8864e-02,  9.2735e-02,  6.2101e-02, -2.0942e-01,\n",
       "        -5.8363e-02,  5.3161e-02,  1.6436e-02, -4.7852e-02,  1.2520e-01,\n",
       "        -1.3700e-01,  1.5120e-01,  7.1342e-02, -8.8870e-02, -1.8290e-01,\n",
       "        -3.0784e-02, -1.4773e-02, -7.2566e-02,  6.6869e-02,  3.9279e-02,\n",
       "         2.5206e-01, -1.2761e-02, -1.2799e-01, -5.0215e-02, -1.3832e-01,\n",
       "         5.9267e-02,  1.7325e-01,  1.1896e-01,  1.6551e-02, -3.2370e-01,\n",
       "         3.7866e-02, -4.3644e-02,  3.7526e-02,  5.8210e-02, -5.8908e-02,\n",
       "        -6.7417e-02,  8.1486e-02, -2.2770e-02, -3.4485e-02, -5.6551e-02,\n",
       "         3.2212e-03, -3.1980e-02, -6.3867e-02, -4.6268e-02,  1.7048e-01,\n",
       "        -1.4666e-02, -9.6720e-02,  8.0998e-02,  7.6852e-02,  8.9008e-02,\n",
       "        -5.0995e-03,  9.2627e-02,  6.7545e-03, -3.3925e-02,  1.0760e-01,\n",
       "         1.2466e-01,  1.3611e-02, -1.1228e-01,  9.5005e-02, -1.8089e-01,\n",
       "         1.7146e-02,  1.8063e-03, -1.2179e-01, -4.7008e-02,  2.4835e-02,\n",
       "         4.5852e-01, -8.4127e-02,  1.3187e-02, -5.1192e-02,  7.9482e-02,\n",
       "         6.2881e-02, -2.2638e-02, -9.2660e-02, -2.4858e-02,  1.3366e-01,\n",
       "         1.5387e-01, -8.5112e-02,  5.4174e-02,  5.2025e-02, -7.3223e-02,\n",
       "        -9.6254e-02,  1.1932e-01,  1.5605e-01, -2.3789e-02, -8.9404e-02,\n",
       "        -5.9165e-02, -5.8711e-02,  1.1077e-01,  1.4105e-01, -1.0352e-01,\n",
       "         5.5608e-02,  1.4949e-02, -1.1187e-01,  1.2009e-02, -1.7083e-01,\n",
       "         2.9900e-02, -4.2477e-02, -7.9474e-03,  1.8216e-01,  6.7285e-02,\n",
       "        -2.0315e-02, -4.6027e-02, -8.1675e-02,  1.3040e-01, -4.8196e-02,\n",
       "        -1.2869e-01,  7.5383e-02, -4.1617e-02,  3.1214e-02,  6.3500e-02,\n",
       "        -1.5703e-01, -8.6554e-02, -7.6274e-02, -4.7958e-02, -2.2336e-01,\n",
       "        -9.8770e-02, -2.1387e-02,  2.8045e-01, -1.0133e-01,  1.6679e-03,\n",
       "        -3.9032e-02,  1.2200e-01, -1.5165e-01,  1.5952e-03, -7.3095e-02,\n",
       "        -5.0548e-02, -1.3370e-01, -1.3917e-01, -1.5804e-01,  2.1950e-01,\n",
       "         4.4207e-02, -7.8911e-02, -7.2632e-02, -4.2977e-02,  2.1439e-02,\n",
       "        -2.1926e-02, -1.3683e-01,  2.3322e-02,  1.4678e-01, -1.4045e-01,\n",
       "        -9.0889e-04,  8.5448e-02, -1.4732e-01, -6.6192e-02, -2.2712e-02,\n",
       "         1.2268e-01, -8.6052e-03,  3.5971e-02, -6.2393e-03,  1.0128e-01,\n",
       "        -8.9395e-02,  3.8247e-02, -1.1872e-01, -9.1059e-02,  1.5870e-02,\n",
       "        -9.3838e-02,  3.0237e-02,  1.0599e-01, -1.8761e-01, -8.9317e-02,\n",
       "        -4.1391e-03,  4.8328e-02,  7.9596e-02,  3.2692e-02, -8.5104e-03,\n",
       "         1.8885e-01,  2.0657e-01,  3.8316e-02, -1.2558e-02, -2.0939e-02,\n",
       "        -3.9941e-02, -2.2343e-02, -6.0968e-02,  7.4689e-02, -1.1495e-01,\n",
       "        -4.9524e-02, -1.2685e-03,  6.8218e-02, -4.6758e-02,  1.5371e-01,\n",
       "         1.0970e-01, -1.0767e-02, -1.3773e-02,  5.9105e-02,  1.2548e-01,\n",
       "        -9.1194e-02, -3.3983e-01,  5.6173e-02,  8.2730e-02, -4.0255e-02,\n",
       "         1.1358e-01, -4.1461e-02,  1.9690e-02, -2.0634e-02,  5.6021e-03,\n",
       "         8.7944e-02, -1.4632e-01,  5.9140e-01, -4.3009e-03,  6.5452e-02,\n",
       "        -2.5968e-03, -1.3087e-02, -1.0330e-01, -4.6151e-03,  4.3010e-02,\n",
       "         7.7175e-02, -1.2707e-02,  4.6952e-02, -7.4818e-02,  1.8429e-02,\n",
       "        -1.5903e-02, -9.2543e-02,  9.0027e-02, -2.9999e-02,  1.5436e-03,\n",
       "        -1.2077e-02,  9.3553e-02, -1.2272e-01, -9.5758e-02, -1.4127e-01,\n",
       "         1.8187e-01, -2.3084e-02, -2.3760e-04, -2.0451e-01,  1.7604e-02,\n",
       "        -4.1388e-02, -2.8769e-02, -5.6870e-02,  9.2898e-02, -1.0915e-01,\n",
       "         1.5435e-02, -5.6354e-02,  3.1577e-02, -9.2526e-02,  1.1634e-02,\n",
       "         1.4750e-01,  9.4561e-03, -6.3813e-02,  1.3345e-01,  8.9356e-02,\n",
       "         1.1079e-01, -4.7463e-02,  3.6111e-02, -3.1318e-01, -1.3601e-01,\n",
       "         1.0661e-02, -5.3226e-02,  1.1813e-01,  5.1472e-02,  1.2871e-01,\n",
       "        -1.1716e-01,  6.5665e-02,  1.3627e-01, -6.9383e-02, -9.6641e-02,\n",
       "        -1.5639e-02,  9.5849e-02, -5.9466e-02, -2.7442e-01,  1.5698e-01,\n",
       "        -5.0680e-02,  1.0395e-01,  5.4828e-02,  4.4374e-02,  8.4591e-02,\n",
       "        -1.2261e-01,  1.8299e-02,  1.4873e-01,  9.0552e-02,  2.0571e-02,\n",
       "        -1.9505e-01,  3.3871e-02, -9.0678e-02, -2.1910e-01,  9.9081e-02,\n",
       "         2.7600e-03,  9.1282e-02,  7.2056e-02,  2.0595e-01,  1.7624e-02,\n",
       "        -1.0177e-01,  2.1236e-01,  4.3416e-02, -6.8824e-03,  1.9296e-02,\n",
       "         8.7929e-02,  4.3906e-03,  8.1266e-02,  1.4992e-01, -2.8318e-02,\n",
       "         2.0656e-01,  3.8534e-02, -2.5074e-02, -5.2604e-02, -2.0639e-01,\n",
       "        -8.3161e-02,  7.8853e-02, -2.1289e-02,  8.9290e-02,  6.1772e-02,\n",
       "        -7.9054e-03,  5.1985e-02, -1.4814e-01, -1.5766e-01,  9.2547e-02,\n",
       "         1.7918e-01, -5.1308e-02,  9.9373e-02,  1.5614e-01,  6.8595e-02,\n",
       "         1.5633e-01, -8.1991e-02,  4.5399e-02, -9.3089e-02,  3.2221e-02,\n",
       "         1.5636e-02,  6.1549e-03,  3.0337e-02, -2.4284e-02,  1.8177e-01,\n",
       "         5.5894e-03, -4.5025e-01,  2.3701e-01,  3.0261e-01, -1.8067e-01,\n",
       "         5.6462e-02, -1.4940e-02,  6.6268e-02, -1.5133e-01, -7.7095e-02,\n",
       "         1.0759e-01,  2.6080e-01,  2.5452e-02, -1.0282e-01, -2.7586e-02,\n",
       "         1.2081e-01, -1.8929e-01,  6.0229e-02, -6.9520e-02,  8.6275e-03,\n",
       "         5.9040e-02,  5.7402e-02,  4.4050e-02,  1.0688e-02, -5.4048e-02,\n",
       "        -6.6442e-02, -8.9712e-02, -7.1306e-02, -1.6334e-01,  2.3695e-03,\n",
       "        -3.8087e-02, -8.8833e-02,  1.0070e-01, -9.9121e-02, -7.2356e-02,\n",
       "        -1.1778e-01, -4.9739e-03, -5.7939e-02,  3.6604e-02, -4.6334e-02,\n",
       "         8.1416e-02, -9.4214e-02, -3.9630e-02,  1.1603e-01, -9.6170e-02,\n",
       "         7.2385e-02, -1.8645e-01, -2.7393e-02,  1.2223e-01,  4.6356e-02,\n",
       "         9.8334e-03,  1.4001e-01, -7.1574e-02, -2.9606e-02, -7.8615e-02,\n",
       "        -1.1869e-02, -2.1220e-01, -1.4286e-01, -1.7038e-01,  5.0172e-02,\n",
       "         2.9267e-02, -6.1832e-02, -5.7862e-02,  1.2488e-01, -1.0090e-02,\n",
       "         8.1458e-02, -5.3320e-02,  1.1953e-01,  8.2915e-02,  3.4940e-02,\n",
       "        -6.6721e-02,  1.4616e-03, -1.4737e-01, -7.1066e-02,  6.7062e-02,\n",
       "         1.7869e-01,  4.4123e-02,  3.5345e-02,  6.0341e-02,  1.6211e-01,\n",
       "         7.7294e-02, -6.5953e-02, -6.6906e-03, -2.2041e-02, -6.5026e-02,\n",
       "         1.5389e-03, -2.1274e-01, -1.5013e-01, -7.1959e-02,  3.9539e-02,\n",
       "        -1.2482e-01,  9.5283e-02,  3.1242e-02,  2.0947e-01, -5.2784e-02,\n",
       "         7.6772e-02,  9.9047e-02, -7.8648e-03, -1.3425e-02,  2.9832e-02,\n",
       "        -2.1300e-02,  7.7994e-02, -1.1284e-01,  2.3946e-01,  1.1894e-02,\n",
       "        -2.6025e-02, -4.5743e-02, -8.1266e-02,  5.3620e-01,  1.0814e-02,\n",
       "        -6.3175e-02, -5.2615e-02,  2.8215e-02,  6.9994e-02, -1.8621e-02,\n",
       "        -7.0567e-02, -8.0339e-03,  8.0373e-02,  2.4297e-02, -1.1031e-01,\n",
       "         6.2894e-02,  8.2440e-02,  7.4178e-02, -5.7608e-03,  6.1351e-03,\n",
       "         1.3044e-01, -3.4455e-02,  4.0000e-02, -1.4352e-01, -8.1733e-02,\n",
       "         7.1435e-02,  7.5869e-02,  1.0882e-02,  5.5820e-02, -6.0004e-02,\n",
       "         6.0194e-02,  1.2748e-02,  5.0312e-02,  1.3938e-03,  1.1961e-01,\n",
       "        -7.2735e-02,  5.8481e-02,  1.5305e-01,  5.1311e-02, -8.9219e-02,\n",
       "         4.4905e-02,  2.1864e-02, -1.5100e-02, -2.0886e-02, -9.4799e-02,\n",
       "         2.4089e-02, -4.2220e-02, -1.7295e-01,  8.6185e-02,  9.1892e-02,\n",
       "         3.8453e-02, -7.4200e-02, -2.1071e-01,  7.2924e-02, -1.3752e-01,\n",
       "         5.8136e-02, -1.1859e-01, -8.9463e-02,  6.2802e-02,  9.3935e-02,\n",
       "        -1.7520e-32, -7.2193e-02, -1.0301e-02, -2.0942e-03,  1.4164e-01,\n",
       "        -4.1247e-03,  9.0041e-02, -1.8557e-02, -1.3239e-03, -2.1771e-02,\n",
       "        -7.5540e-02,  1.4158e-01,  3.0003e-02, -3.0444e-02,  1.7283e-03,\n",
       "         6.7671e-02, -3.9733e-03, -1.0226e-01, -6.8519e-02,  8.3416e-02,\n",
       "        -2.4020e-01, -1.3687e-01, -3.2119e-02,  5.9683e-02,  8.7872e-02,\n",
       "        -1.3953e-01, -6.8173e-02, -3.0003e-02,  2.2189e-02, -1.4482e-01,\n",
       "        -1.1850e-01,  5.5360e-02,  3.9482e-02, -4.8510e-03, -2.5939e-01,\n",
       "         3.6451e-02,  3.3919e-02, -4.2063e-02, -3.6846e-02, -2.2607e-02,\n",
       "         1.0707e-01,  4.4376e-02,  3.0170e-02,  1.2905e-01, -7.5703e-02,\n",
       "         1.9744e-02,  4.5562e-02,  4.1431e-02, -6.6792e-02,  8.5430e-02,\n",
       "         7.9372e-02, -9.3535e-02, -8.8083e-02, -3.8253e-02, -1.1351e-01,\n",
       "        -1.9733e-01, -1.0390e-01,  6.6608e-02,  6.1579e-02, -4.5882e-02,\n",
       "        -1.3095e-01,  1.8927e-01,  1.0716e-01, -1.3091e-02,  6.4472e-02,\n",
       "         2.8181e-02, -1.0379e-01,  1.0033e-01, -6.6526e-02, -6.3128e-02,\n",
       "         1.5254e-01, -6.7334e-02, -3.6402e-02, -1.2965e-01,  1.0096e-01,\n",
       "        -5.7700e-02,  1.1947e-02, -9.3121e-02,  4.3753e-02,  7.3227e-02,\n",
       "         3.3423e-02,  1.3282e-01, -4.0906e-02, -1.9073e-01, -7.8208e-03,\n",
       "        -1.9354e-02, -1.0569e-01, -1.8522e-01, -9.3612e-03, -7.8905e-02,\n",
       "         9.5105e-02,  6.0367e-03,  2.7189e-02, -4.7805e-02, -9.2708e-02,\n",
       "        -5.6783e-02,  5.8597e-02, -1.0775e-01, -9.1101e-02, -1.1594e-01,\n",
       "        -9.4033e-02,  2.8679e-02,  4.5211e-02,  3.7812e-02, -1.0953e-01,\n",
       "         1.1432e-02,  3.4453e-02, -9.3370e-02,  6.4715e-02,  5.4239e-02,\n",
       "        -2.6420e-02, -9.2597e-03,  7.5142e-02,  1.3388e-01, -1.0228e-02,\n",
       "         1.8096e-02, -2.6397e-02,  3.2840e-02,  2.3843e-02, -1.9578e-01,\n",
       "         1.2305e-01, -5.5498e-02,  2.4401e-01,  2.2175e-02, -1.4501e-02,\n",
       "        -1.3048e-01,  7.1672e-02,  9.3813e-02, -2.2143e-02, -6.2952e-02,\n",
       "        -6.8097e-02, -2.1941e-02,  6.5183e-02,  6.8734e-07, -4.3122e-02,\n",
       "         1.1620e-01,  1.4161e-01, -1.7651e-01,  1.0630e-01, -1.9492e-02,\n",
       "        -1.3196e-01, -5.9094e-02,  1.5356e-01,  1.2575e-01, -1.0614e-01,\n",
       "         4.0422e-02,  2.0472e-02,  1.6704e-01, -6.0291e-02, -9.1768e-02,\n",
       "         1.0003e-01,  1.5028e-01, -8.2545e-02, -1.1028e-01,  9.8553e-02,\n",
       "         1.7924e-01,  5.3781e-02, -2.2448e-02,  2.3582e-02,  2.8332e-01,\n",
       "         4.0869e-02, -6.7406e-02,  7.0345e-02, -1.8436e-01, -2.3821e-01,\n",
       "        -8.2900e-03, -6.3639e-02,  4.2145e-02,  6.7386e-02, -8.4644e-02,\n",
       "         7.6844e-02,  1.0818e-01,  6.0401e-02, -1.9894e-01,  9.9006e-02,\n",
       "        -3.6145e-02, -1.1475e-01, -5.8535e-02,  7.7134e-02, -1.2879e-01,\n",
       "         4.1833e-02, -5.9951e-02, -1.2136e-02, -1.9875e-01, -3.3544e-02,\n",
       "         4.5322e-02,  1.8759e-01,  1.1857e-01,  1.9805e-02,  1.6693e-02,\n",
       "         2.9376e-02, -5.2833e-04, -2.5557e-02,  2.6736e-02,  4.5604e-02,\n",
       "         1.4067e-01,  5.0709e-03,  3.4490e-02,  3.7876e-02,  5.6781e-03,\n",
       "         4.4629e-03,  3.7355e-34, -1.4084e-01, -6.8189e-02,  5.9044e-02,\n",
       "        -4.7467e-02, -1.6223e-01,  9.0216e-02,  1.0143e-01, -7.8688e-02,\n",
       "        -5.0651e-02, -9.1331e-02,  1.2115e-02])"
      ]
     },
     "execution_count": 15,
     "metadata": {},
     "output_type": "execute_result"
    }
   ],
   "source": [
    "text_embedding = torch.load('/home/mila/l/le.zhang/scratch/light_align/data/text_embedding/all-mpnet-base-v2/2.pt')\n",
    "text_embedding[0]"
   ]
  },
  {
   "cell_type": "code",
   "execution_count": 20,
   "metadata": {},
   "outputs": [],
   "source": [
    "model_name = 'all-mpnet-base-v2'\n",
    "with open(os.path.join('./text_embedding', model_name, 'metadata.json'), 'w') as f:\n",
    "    json.dump({'encoded_model_name': model_name, 'chunk_size': 5120, 'total_data_num': 558128}, f)"
   ]
  },
  {
   "cell_type": "code",
   "execution_count": 38,
   "metadata": {},
   "outputs": [
    {
     "data": {
      "text/plain": [
       "74.44048894034542"
      ]
     },
     "execution_count": 38,
     "metadata": {},
     "output_type": "execute_result"
    }
   ],
   "source": [
    "import numpy as np\n",
    "a=np.array(4.31)\n",
    "np.exp(a)"
   ]
  },
  {
   "cell_type": "markdown",
   "metadata": {},
   "source": []
  }
 ],
 "metadata": {
  "kernelspec": {
   "display_name": "openflamingo",
   "language": "python",
   "name": "python3"
  },
  "language_info": {
   "codemirror_mode": {
    "name": "ipython",
    "version": 3
   },
   "file_extension": ".py",
   "mimetype": "text/x-python",
   "name": "python",
   "nbconvert_exporter": "python",
   "pygments_lexer": "ipython3",
   "version": "3.10.4"
  }
 },
 "nbformat": 4,
 "nbformat_minor": 2
}
